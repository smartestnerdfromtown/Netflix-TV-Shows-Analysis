{
 "cells": [
  {
   "cell_type": "code",
   "execution_count": 10,
   "id": "39f5405d",
   "metadata": {},
   "outputs": [],
   "source": [
    "import pandas as pd\n",
    "import numpy as np"
   ]
  },
  {
   "cell_type": "code",
   "execution_count": 88,
   "id": "a4998a99",
   "metadata": {},
   "outputs": [],
   "source": [
    "df = pd.read_csv(\n",
    "    filepath_or_buffer=\"dataset/netflix_titles.csv\"\n",
    ")"
   ]
  },
  {
   "cell_type": "code",
   "execution_count": 89,
   "id": "811660a5",
   "metadata": {},
   "outputs": [
    {
     "name": "stdout",
     "output_type": "stream",
     "text": [
      "<class 'pandas.core.frame.DataFrame'>\n",
      "RangeIndex: 8807 entries, 0 to 8806\n",
      "Data columns (total 12 columns):\n",
      " #   Column        Non-Null Count  Dtype \n",
      "---  ------        --------------  ----- \n",
      " 0   show_id       8807 non-null   object\n",
      " 1   type          8807 non-null   object\n",
      " 2   title         8807 non-null   object\n",
      " 3   director      6173 non-null   object\n",
      " 4   cast          7982 non-null   object\n",
      " 5   country       7976 non-null   object\n",
      " 6   date_added    8797 non-null   object\n",
      " 7   release_year  8807 non-null   int64 \n",
      " 8   rating        8803 non-null   object\n",
      " 9   duration      8804 non-null   object\n",
      " 10  listed_in     8807 non-null   object\n",
      " 11  description   8807 non-null   object\n",
      "dtypes: int64(1), object(11)\n",
      "memory usage: 825.8+ KB\n"
     ]
    }
   ],
   "source": [
    "# General information about dataset\n",
    "df.info()"
   ]
  },
  {
   "cell_type": "code",
   "execution_count": 90,
   "id": "d9a84285",
   "metadata": {},
   "outputs": [],
   "source": [
    "# Just for future.\n",
    "df['date_added'] = pd.to_datetime(\n",
    "    df['date_added'], \n",
    "    format='mixed'\n",
    ")"
   ]
  },
  {
   "cell_type": "markdown",
   "id": "8f399d61",
   "metadata": {},
   "source": [
    "### Filling with `Unknown` NaN Values"
   ]
  },
  {
   "cell_type": "markdown",
   "id": "4b4b2041",
   "metadata": {},
   "source": [
    "I will fill with \"Unknown\" `cast` and `country`. Not too much missing information.Moreover, I am also filling with \"Not Rated\" `rating` column.\n",
    "\n",
    "Columns such as `director`, `date_added` and `duration` also will be filled with `Unknown`. It will not change too much information in dataset, yet the dataset will not be in `NaN` values"
   ]
  },
  {
   "cell_type": "code",
   "execution_count": 91,
   "id": "541374fc",
   "metadata": {},
   "outputs": [],
   "source": [
    "df['cast'] = df['cast'].fillna('Unknown')\n",
    "df['country'] = df['country'].fillna('Unknown')\n",
    "df['date_added'] = df['date_added'].fillna(\"Unknown\")\n",
    "df['director'] = df['director'].fillna(\"Unknown\")\n",
    "df['duration'] = df['duration'].fillna(\"Unknown\")\n",
    "df['rating'] = df['rating'].fillna('Not Rated')"
   ]
  },
  {
   "cell_type": "code",
   "execution_count": 92,
   "id": "d5688ea5",
   "metadata": {},
   "outputs": [
    {
     "name": "stdout",
     "output_type": "stream",
     "text": [
      "<class 'pandas.core.frame.DataFrame'>\n",
      "RangeIndex: 8807 entries, 0 to 8806\n",
      "Data columns (total 12 columns):\n",
      " #   Column        Non-Null Count  Dtype \n",
      "---  ------        --------------  ----- \n",
      " 0   show_id       8807 non-null   object\n",
      " 1   type          8807 non-null   object\n",
      " 2   title         8807 non-null   object\n",
      " 3   director      8807 non-null   object\n",
      " 4   cast          8807 non-null   object\n",
      " 5   country       8807 non-null   object\n",
      " 6   date_added    8807 non-null   object\n",
      " 7   release_year  8807 non-null   int64 \n",
      " 8   rating        8807 non-null   object\n",
      " 9   duration      8807 non-null   object\n",
      " 10  listed_in     8807 non-null   object\n",
      " 11  description   8807 non-null   object\n",
      "dtypes: int64(1), object(11)\n",
      "memory usage: 825.8+ KB\n"
     ]
    }
   ],
   "source": [
    "df.info()"
   ]
  },
  {
   "cell_type": "markdown",
   "id": "d7314fe8",
   "metadata": {},
   "source": [
    "### Dropping `description` Column"
   ]
  },
  {
   "cell_type": "markdown",
   "id": "a0e83990",
   "metadata": {},
   "source": [
    "It seems that we are not going to work with descriptions, thus, I am dropping it."
   ]
  },
  {
   "cell_type": "code",
   "execution_count": 93,
   "id": "2cf976f4",
   "metadata": {},
   "outputs": [],
   "source": [
    "df = df.drop(columns='description', axis=0)"
   ]
  },
  {
   "cell_type": "code",
   "execution_count": 94,
   "id": "308f6829",
   "metadata": {},
   "outputs": [
    {
     "name": "stdout",
     "output_type": "stream",
     "text": [
      "<class 'pandas.core.frame.DataFrame'>\n",
      "RangeIndex: 8807 entries, 0 to 8806\n",
      "Data columns (total 11 columns):\n",
      " #   Column        Non-Null Count  Dtype \n",
      "---  ------        --------------  ----- \n",
      " 0   show_id       8807 non-null   object\n",
      " 1   type          8807 non-null   object\n",
      " 2   title         8807 non-null   object\n",
      " 3   director      8807 non-null   object\n",
      " 4   cast          8807 non-null   object\n",
      " 5   country       8807 non-null   object\n",
      " 6   date_added    8807 non-null   object\n",
      " 7   release_year  8807 non-null   int64 \n",
      " 8   rating        8807 non-null   object\n",
      " 9   duration      8807 non-null   object\n",
      " 10  listed_in     8807 non-null   object\n",
      "dtypes: int64(1), object(10)\n",
      "memory usage: 757.0+ KB\n"
     ]
    }
   ],
   "source": [
    "df.info()"
   ]
  },
  {
   "cell_type": "markdown",
   "id": "67477a21",
   "metadata": {},
   "source": [
    "### Working with `rating` column"
   ]
  },
  {
   "cell_type": "code",
   "execution_count": 95,
   "id": "0c97617d",
   "metadata": {},
   "outputs": [
    {
     "data": {
      "text/plain": [
       "array(['PG-13', 'TV-MA', 'PG', 'TV-14', 'TV-PG', 'TV-Y', 'TV-Y7', 'R',\n",
       "       'TV-G', 'G', 'NC-17', '74 min', '84 min', '66 min', 'NR',\n",
       "       'Not Rated', 'TV-Y7-FV', 'UR'], dtype=object)"
      ]
     },
     "execution_count": 95,
     "metadata": {},
     "output_type": "execute_result"
    }
   ],
   "source": [
    "df['rating'].unique()"
   ]
  },
  {
   "cell_type": "code",
   "execution_count": 96,
   "id": "5e075442",
   "metadata": {},
   "outputs": [
    {
     "data": {
      "text/plain": [
       "rating\n",
       "TV-MA        3207\n",
       "TV-14        2160\n",
       "TV-PG         863\n",
       "R             799\n",
       "PG-13         490\n",
       "TV-Y7         334\n",
       "TV-Y          307\n",
       "PG            287\n",
       "TV-G          220\n",
       "NR             80\n",
       "G              41\n",
       "TV-Y7-FV        6\n",
       "Not Rated       4\n",
       "NC-17           3\n",
       "UR              3\n",
       "66 min          1\n",
       "74 min          1\n",
       "84 min          1\n",
       "Name: count, dtype: int64"
      ]
     },
     "execution_count": 96,
     "metadata": {},
     "output_type": "execute_result"
    }
   ],
   "source": [
    "df['rating'].value_counts()"
   ]
  },
  {
   "cell_type": "markdown",
   "id": "88c69518",
   "metadata": {},
   "source": [
    "'74 min', '84 min' and '66 min' obviously are not ratings. Let's replace them with \"Not Rated\".\n",
    "\n",
    "Furthermore, `UR` (Unrated), `NR` (Not Rated), and \"Not Rated\" all mean essentially the same thing. Thus, I can replace UR and NR with just \"Not Rated\""
   ]
  },
  {
   "cell_type": "code",
   "execution_count": 97,
   "id": "7d1d7433",
   "metadata": {},
   "outputs": [],
   "source": [
    "duration_ratings = ['66 min', '74 min', '84 min']\n",
    "df.loc[df['rating'].isin(duration_ratings), 'rating'] = 'Not Rated'\n",
    "\n",
    "not_rated = ['UR', 'NR']\n",
    "df.loc[df['rating'].isin(not_rated), 'rating'] = 'Not Rated'"
   ]
  },
  {
   "cell_type": "code",
   "execution_count": 98,
   "id": "6993f72b",
   "metadata": {},
   "outputs": [
    {
     "data": {
      "text/plain": [
       "rating\n",
       "TV-MA        3207\n",
       "TV-14        2160\n",
       "TV-PG         863\n",
       "R             799\n",
       "PG-13         490\n",
       "TV-Y7         334\n",
       "TV-Y          307\n",
       "PG            287\n",
       "TV-G          220\n",
       "Not Rated      90\n",
       "G              41\n",
       "TV-Y7-FV        6\n",
       "NC-17           3\n",
       "Name: count, dtype: int64"
      ]
     },
     "execution_count": 98,
     "metadata": {},
     "output_type": "execute_result"
    }
   ],
   "source": [
    "df['rating'].value_counts()"
   ]
  },
  {
   "cell_type": "markdown",
   "id": "25df60fc",
   "metadata": {},
   "source": [
    "### Working with `country` column"
   ]
  },
  {
   "cell_type": "code",
   "execution_count": 99,
   "id": "60e5adcf",
   "metadata": {},
   "outputs": [
    {
     "data": {
      "text/plain": [
       "country\n",
       "United States                                    2818\n",
       "India                                             972\n",
       "Unknown                                           831\n",
       "United Kingdom                                    419\n",
       "Japan                                             245\n",
       "                                                 ... \n",
       "Russia, Spain                                       1\n",
       "Croatia, Slovenia, Serbia, Montenegro               1\n",
       "Japan, Canada                                       1\n",
       "United States, France, South Korea, Indonesia       1\n",
       "Canada, Mexico, Germany, South Africa               1\n",
       "Name: count, Length: 749, dtype: int64"
      ]
     },
     "execution_count": 99,
     "metadata": {},
     "output_type": "execute_result"
    }
   ],
   "source": [
    "df['country'].value_counts()"
   ]
  },
  {
   "cell_type": "markdown",
   "id": "8b59aa91",
   "metadata": {},
   "source": [
    "Those combined countries (like \"Russia, Spain\", \"Croatia, Slovenia, Serbia, Montenegro\") are problematic for analysis. For this reason, I will just keep first country as a primary country."
   ]
  },
  {
   "cell_type": "code",
   "execution_count": 100,
   "id": "9d646161",
   "metadata": {},
   "outputs": [],
   "source": [
    "def take_first_country(source: str) -> str:\n",
    "    source = source.split(\",\")\n",
    "    return source[0]"
   ]
  },
  {
   "cell_type": "code",
   "execution_count": 101,
   "id": "fe91800c",
   "metadata": {},
   "outputs": [
    {
     "data": {
      "text/plain": [
       "'Croatia'"
      ]
     },
     "execution_count": 101,
     "metadata": {},
     "output_type": "execute_result"
    }
   ],
   "source": [
    "take_first_country(\"Croatia, Slovenia, Serbia, Montenegro\")"
   ]
  },
  {
   "cell_type": "code",
   "execution_count": 102,
   "id": "442f555a",
   "metadata": {},
   "outputs": [],
   "source": [
    "df['country'] = df['country'].apply(func=take_first_country)"
   ]
  },
  {
   "cell_type": "code",
   "execution_count": 103,
   "id": "72beb6c5",
   "metadata": {},
   "outputs": [
    {
     "data": {
      "text/plain": [
       "country\n",
       "United States     3211\n",
       "India             1008\n",
       "Unknown            831\n",
       "United Kingdom     628\n",
       "Canada             271\n",
       "                  ... \n",
       "West Germany         1\n",
       "Slovenia             1\n",
       "Guatemala            1\n",
       "Jamaica              1\n",
       "Somalia              1\n",
       "Name: count, Length: 87, dtype: int64"
      ]
     },
     "execution_count": 103,
     "metadata": {},
     "output_type": "execute_result"
    }
   ],
   "source": [
    "df['country'].value_counts()"
   ]
  },
  {
   "cell_type": "markdown",
   "id": "b84f27fb",
   "metadata": {},
   "source": [
    "### Working with `listed_in` column"
   ]
  },
  {
   "cell_type": "markdown",
   "id": "c85ecef7",
   "metadata": {},
   "source": [
    "Why am I going to remove \"International TV Shows/Movie\" label from \"listed_in\"?\"International\" doesn't add meaningful information since Netflix is a global platform by default. The label doesn't describe the actual genre/content type (comedy, drama, thriller, etc.). A TV show being \"International\" doesn't tell you what kind of show it actually is. Some entries have it, some don't, creating inconsistency. "
   ]
  },
  {
   "cell_type": "code",
   "execution_count": 104,
   "id": "6c271f24",
   "metadata": {},
   "outputs": [],
   "source": [
    "def remove_label(source: str) -> None:\n",
    "    source = source \\\n",
    "                  .replace(\"International TV Shows\", \"\") \\\n",
    "                  .replace(\"International Movies\", \"\") \\\n",
    "                  .replace(\", ,\", \",\") \\\n",
    "                  .strip(\", \")\n",
    "    return source"
   ]
  },
  {
   "cell_type": "code",
   "execution_count": 105,
   "id": "2543df91",
   "metadata": {},
   "outputs": [],
   "source": [
    "df['listed_in'] = df['listed_in'].apply(remove_label)"
   ]
  },
  {
   "cell_type": "code",
   "execution_count": 106,
   "id": "728bda9c",
   "metadata": {},
   "outputs": [
    {
     "data": {
      "text/plain": [
       "listed_in\n",
       "Documentaries                                       545\n",
       "Dramas                                              500\n",
       "Dramas, Independent Movies                          352\n",
       "Stand-Up Comedy                                     334\n",
       "Comedies, Dramas                                    303\n",
       "                                                   ... \n",
       "Independent Movies                                    1\n",
       "Classic & Cult TV, TV Horror, TV Mysteries            1\n",
       "Dramas, Horror Movies, Sci-Fi & Fantasy               1\n",
       "British TV Shows, TV Dramas, TV Sci-Fi & Fantasy      1\n",
       "Cult Movies, Dramas, Thrillers                        1\n",
       "Name: count, Length: 421, dtype: int64"
      ]
     },
     "execution_count": 106,
     "metadata": {},
     "output_type": "execute_result"
    }
   ],
   "source": [
    "df['listed_in'].value_counts(())"
   ]
  },
  {
   "cell_type": "markdown",
   "id": "bd048471",
   "metadata": {},
   "source": [
    "Besides this, I will define brand-new column for primary genres, assuming that first one in the combination is the primary one. "
   ]
  },
  {
   "cell_type": "code",
   "execution_count": 107,
   "id": "49ed39d1",
   "metadata": {},
   "outputs": [],
   "source": [
    "def extract_primary_genre(source: str) -> str:\n",
    "    source = source.split(\",\")\n",
    "    return source[0]"
   ]
  },
  {
   "cell_type": "code",
   "execution_count": 108,
   "id": "2446328a",
   "metadata": {},
   "outputs": [],
   "source": [
    "df['primary_genre'] = df['listed_in'].apply(extract_primary_genre)"
   ]
  },
  {
   "cell_type": "code",
   "execution_count": 109,
   "id": "c05bd993",
   "metadata": {},
   "outputs": [
    {
     "data": {
      "text/plain": [
       "primary_genre\n",
       "Dramas                      1600\n",
       "Comedies                    1210\n",
       "Action & Adventure           859\n",
       "Documentaries                829\n",
       "Children & Family Movies     605\n",
       "Name: count, dtype: int64"
      ]
     },
     "execution_count": 109,
     "metadata": {},
     "output_type": "execute_result"
    }
   ],
   "source": [
    "df['primary_genre'].value_counts().head()"
   ]
  },
  {
   "cell_type": "markdown",
   "id": "8b2f4d0c",
   "metadata": {},
   "source": [
    "### Splitting Dataset"
   ]
  },
  {
   "cell_type": "markdown",
   "id": "2b11de5b",
   "metadata": {},
   "source": [
    "At this point, I suppose I have to split dataset into 2 distinct tables.First one will be about TV Shows, whereas second one will be on Movies  "
   ]
  },
  {
   "cell_type": "code",
   "execution_count": 118,
   "id": "105c30f5",
   "metadata": {},
   "outputs": [],
   "source": [
    "tv_shows = df[df['type'] == 'TV Show']\n",
    "movies = df[df['type'] == 'Movie']"
   ]
  },
  {
   "cell_type": "code",
   "execution_count": 119,
   "id": "5b774580",
   "metadata": {},
   "outputs": [
    {
     "name": "stdout",
     "output_type": "stream",
     "text": [
      "<class 'pandas.core.frame.DataFrame'>\n",
      "Index: 2676 entries, 1 to 8803\n",
      "Data columns (total 12 columns):\n",
      " #   Column         Non-Null Count  Dtype \n",
      "---  ------         --------------  ----- \n",
      " 0   show_id        2676 non-null   object\n",
      " 1   type           2676 non-null   object\n",
      " 2   title          2676 non-null   object\n",
      " 3   director       2676 non-null   object\n",
      " 4   cast           2676 non-null   object\n",
      " 5   country        2676 non-null   object\n",
      " 6   date_added     2676 non-null   object\n",
      " 7   release_year   2676 non-null   int64 \n",
      " 8   rating         2676 non-null   object\n",
      " 9   duration       2676 non-null   object\n",
      " 10  listed_in      2676 non-null   object\n",
      " 11  primary_genre  2676 non-null   object\n",
      "dtypes: int64(1), object(11)\n",
      "memory usage: 271.8+ KB\n"
     ]
    }
   ],
   "source": [
    "tv_shows.info()"
   ]
  },
  {
   "cell_type": "code",
   "execution_count": 121,
   "id": "7a579142",
   "metadata": {},
   "outputs": [
    {
     "data": {
      "text/plain": [
       "director\n",
       "Unknown                   2446\n",
       "Alastair Fothergill          3\n",
       "Rob Seidenglanz              2\n",
       "Ken Burns                    2\n",
       "Stan Lathan                  2\n",
       "                          ... \n",
       "Bumpy                        1\n",
       "Michael Samuels              1\n",
       "Mark Tonderai                1\n",
       "Ken Burns, Lynn Novick       1\n",
       "Michael Cumming              1\n",
       "Name: count, Length: 223, dtype: int64"
      ]
     },
     "execution_count": 121,
     "metadata": {},
     "output_type": "execute_result"
    }
   ],
   "source": [
    "tv_shows['director'].value_counts()"
   ]
  },
  {
   "cell_type": "markdown",
   "id": "bd4fd6c2",
   "metadata": {},
   "source": [
    "The column(`director`) nearly useless for most analyses. Such high missingness makes statistical analysis unreliable. Besides this, by dropping this column, I will simplify my dataset without losing valuable information"
   ]
  },
  {
   "cell_type": "code",
   "execution_count": 122,
   "id": "a316dfaf",
   "metadata": {},
   "outputs": [],
   "source": [
    "tv_shows = tv_shows.drop(columns='director', axis=0)"
   ]
  },
  {
   "cell_type": "code",
   "execution_count": 123,
   "id": "e3f2f7a3",
   "metadata": {},
   "outputs": [
    {
     "name": "stdout",
     "output_type": "stream",
     "text": [
      "<class 'pandas.core.frame.DataFrame'>\n",
      "Index: 2676 entries, 1 to 8803\n",
      "Data columns (total 11 columns):\n",
      " #   Column         Non-Null Count  Dtype \n",
      "---  ------         --------------  ----- \n",
      " 0   show_id        2676 non-null   object\n",
      " 1   type           2676 non-null   object\n",
      " 2   title          2676 non-null   object\n",
      " 3   cast           2676 non-null   object\n",
      " 4   country        2676 non-null   object\n",
      " 5   date_added     2676 non-null   object\n",
      " 6   release_year   2676 non-null   int64 \n",
      " 7   rating         2676 non-null   object\n",
      " 8   duration       2676 non-null   object\n",
      " 9   listed_in      2676 non-null   object\n",
      " 10  primary_genre  2676 non-null   object\n",
      "dtypes: int64(1), object(10)\n",
      "memory usage: 250.9+ KB\n"
     ]
    }
   ],
   "source": [
    "tv_shows.info()"
   ]
  },
  {
   "cell_type": "code",
   "execution_count": 125,
   "id": "f4ba7c92",
   "metadata": {},
   "outputs": [
    {
     "name": "stdout",
     "output_type": "stream",
     "text": [
      "<class 'pandas.core.frame.DataFrame'>\n",
      "Index: 6131 entries, 0 to 8806\n",
      "Data columns (total 12 columns):\n",
      " #   Column         Non-Null Count  Dtype \n",
      "---  ------         --------------  ----- \n",
      " 0   show_id        6131 non-null   object\n",
      " 1   type           6131 non-null   object\n",
      " 2   title          6131 non-null   object\n",
      " 3   director       6131 non-null   object\n",
      " 4   cast           6131 non-null   object\n",
      " 5   country        6131 non-null   object\n",
      " 6   date_added     6131 non-null   object\n",
      " 7   release_year   6131 non-null   int64 \n",
      " 8   rating         6131 non-null   object\n",
      " 9   duration       6131 non-null   object\n",
      " 10  listed_in      6131 non-null   object\n",
      " 11  primary_genre  6131 non-null   object\n",
      "dtypes: int64(1), object(11)\n",
      "memory usage: 622.7+ KB\n"
     ]
    }
   ],
   "source": [
    "movies.info()"
   ]
  },
  {
   "cell_type": "code",
   "execution_count": 126,
   "id": "ded4207c",
   "metadata": {},
   "outputs": [
    {
     "data": {
      "text/plain": [
       "director\n",
       "Unknown                    188\n",
       "Rajiv Chilaka               19\n",
       "Raúl Campos, Jan Suter      18\n",
       "Suhas Kadav                 16\n",
       "Marcus Raboy                15\n",
       "                          ... \n",
       "Mu Chu                       1\n",
       "Chandra Prakash Dwivedi      1\n",
       "Majid Al Ansari              1\n",
       "Peter Hewitt                 1\n",
       "Haile Gerima                 1\n",
       "Name: count, Length: 4355, dtype: int64"
      ]
     },
     "execution_count": 126,
     "metadata": {},
     "output_type": "execute_result"
    }
   ],
   "source": [
    "movies['director'].value_counts()"
   ]
  },
  {
   "cell_type": "markdown",
   "id": "999be94a",
   "metadata": {},
   "source": [
    "### Saving Splitted Datasets"
   ]
  },
  {
   "cell_type": "code",
   "execution_count": 129,
   "id": "49a33f57",
   "metadata": {},
   "outputs": [],
   "source": [
    "tv_shows = tv_shows.drop(columns=\"type\")\n",
    "movies = movies.drop(columns=\"type\")"
   ]
  },
  {
   "cell_type": "code",
   "execution_count": 130,
   "id": "4d0278d1",
   "metadata": {},
   "outputs": [],
   "source": [
    "tv_shows.to_csv(\n",
    "    path_or_buf=\"dataset/tv_shows.csv\",\n",
    "    index=False,\n",
    "    sep=\",\",\n",
    "    encoding=\"utf-8\",\n",
    "    header=True\n",
    ")"
   ]
  },
  {
   "cell_type": "code",
   "execution_count": 131,
   "id": "faa093f4",
   "metadata": {},
   "outputs": [],
   "source": [
    "movies.to_csv(\n",
    "    path_or_buf=\"dataset/movies.csv\",\n",
    "    index=False,\n",
    "    sep=\",\",\n",
    "    encoding=\"utf-8\",\n",
    "    header=True\n",
    ")"
   ]
  },
  {
   "cell_type": "code",
   "execution_count": null,
   "id": "8a9611af",
   "metadata": {},
   "outputs": [],
   "source": []
  }
 ],
 "metadata": {
  "kernelspec": {
   "display_name": "venv_win",
   "language": "python",
   "name": "python3"
  },
  "language_info": {
   "codemirror_mode": {
    "name": "ipython",
    "version": 3
   },
   "file_extension": ".py",
   "mimetype": "text/x-python",
   "name": "python",
   "nbconvert_exporter": "python",
   "pygments_lexer": "ipython3",
   "version": "3.13.7"
  }
 },
 "nbformat": 4,
 "nbformat_minor": 5
}
