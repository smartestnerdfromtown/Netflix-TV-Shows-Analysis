{
 "cells": [
  {
   "cell_type": "code",
   "execution_count": 77,
   "id": "39f5405d",
   "metadata": {},
   "outputs": [],
   "source": [
    "import pandas as pd\n",
    "import numpy as np"
   ]
  },
  {
   "cell_type": "code",
   "execution_count": 78,
   "id": "a4998a99",
   "metadata": {},
   "outputs": [],
   "source": [
    "df = pd.read_csv(\n",
    "    filepath_or_buffer=\"dataset/netflix_titles.csv\"\n",
    ")"
   ]
  },
  {
   "cell_type": "code",
   "execution_count": 79,
   "id": "811660a5",
   "metadata": {},
   "outputs": [
    {
     "name": "stdout",
     "output_type": "stream",
     "text": [
      "<class 'pandas.core.frame.DataFrame'>\n",
      "RangeIndex: 8807 entries, 0 to 8806\n",
      "Data columns (total 12 columns):\n",
      " #   Column        Non-Null Count  Dtype \n",
      "---  ------        --------------  ----- \n",
      " 0   show_id       8807 non-null   object\n",
      " 1   type          8807 non-null   object\n",
      " 2   title         8807 non-null   object\n",
      " 3   director      6173 non-null   object\n",
      " 4   cast          7982 non-null   object\n",
      " 5   country       7976 non-null   object\n",
      " 6   date_added    8797 non-null   object\n",
      " 7   release_year  8807 non-null   int64 \n",
      " 8   rating        8803 non-null   object\n",
      " 9   duration      8804 non-null   object\n",
      " 10  listed_in     8807 non-null   object\n",
      " 11  description   8807 non-null   object\n",
      "dtypes: int64(1), object(11)\n",
      "memory usage: 825.8+ KB\n"
     ]
    }
   ],
   "source": [
    "# General information about dataset\n",
    "df.info()"
   ]
  },
  {
   "cell_type": "code",
   "execution_count": 80,
   "id": "541374fc",
   "metadata": {},
   "outputs": [],
   "source": [
    "# I will fill with \"Unknown\" cast and country. Not too much missing information.\n",
    "# Moreover, I am also filling with \"Not Rated\" rating column. \n",
    "df['cast'] = df['cast'].fillna('Unknown')\n",
    "df['country'] = df['country'].fillna('Unknown')\n",
    "df['rating'] = df['rating'].fillna('Not Rated')"
   ]
  },
  {
   "cell_type": "code",
   "execution_count": 81,
   "id": "115e8608",
   "metadata": {},
   "outputs": [
    {
     "name": "stdout",
     "output_type": "stream",
     "text": [
      "<class 'pandas.core.frame.DataFrame'>\n",
      "RangeIndex: 8807 entries, 0 to 8806\n",
      "Data columns (total 12 columns):\n",
      " #   Column        Non-Null Count  Dtype \n",
      "---  ------        --------------  ----- \n",
      " 0   show_id       8807 non-null   object\n",
      " 1   type          8807 non-null   object\n",
      " 2   title         8807 non-null   object\n",
      " 3   director      6173 non-null   object\n",
      " 4   cast          8807 non-null   object\n",
      " 5   country       8807 non-null   object\n",
      " 6   date_added    8797 non-null   object\n",
      " 7   release_year  8807 non-null   int64 \n",
      " 8   rating        8807 non-null   object\n",
      " 9   duration      8804 non-null   object\n",
      " 10  listed_in     8807 non-null   object\n",
      " 11  description   8807 non-null   object\n",
      "dtypes: int64(1), object(11)\n",
      "memory usage: 825.8+ KB\n"
     ]
    }
   ],
   "source": [
    "df.info()"
   ]
  },
  {
   "cell_type": "code",
   "execution_count": 82,
   "id": "a6d3fde4",
   "metadata": {},
   "outputs": [],
   "source": [
    "# Columns such as director, date_added and duration also will be filled with \"Unknown\"\n",
    "# It will not change too much information in dataset, \n",
    "# yet the dataset will not be in NaN values\n",
    "df['date_added'] = df['date_added'].fillna(\"Unknown\")\n",
    "df['director'] = df['director'].fillna(\"Unknown\")\n",
    "df['duration'] = df['duration'].fillna(\"Unknown\")"
   ]
  },
  {
   "cell_type": "code",
   "execution_count": 83,
   "id": "d5688ea5",
   "metadata": {},
   "outputs": [
    {
     "name": "stdout",
     "output_type": "stream",
     "text": [
      "<class 'pandas.core.frame.DataFrame'>\n",
      "RangeIndex: 8807 entries, 0 to 8806\n",
      "Data columns (total 12 columns):\n",
      " #   Column        Non-Null Count  Dtype \n",
      "---  ------        --------------  ----- \n",
      " 0   show_id       8807 non-null   object\n",
      " 1   type          8807 non-null   object\n",
      " 2   title         8807 non-null   object\n",
      " 3   director      8807 non-null   object\n",
      " 4   cast          8807 non-null   object\n",
      " 5   country       8807 non-null   object\n",
      " 6   date_added    8807 non-null   object\n",
      " 7   release_year  8807 non-null   int64 \n",
      " 8   rating        8807 non-null   object\n",
      " 9   duration      8807 non-null   object\n",
      " 10  listed_in     8807 non-null   object\n",
      " 11  description   8807 non-null   object\n",
      "dtypes: int64(1), object(11)\n",
      "memory usage: 825.8+ KB\n"
     ]
    }
   ],
   "source": [
    "df.info()"
   ]
  },
  {
   "cell_type": "code",
   "execution_count": 84,
   "id": "2cf976f4",
   "metadata": {},
   "outputs": [],
   "source": [
    "# It seems that we are not going to work with descriptions,\n",
    "# Thus, I am dropping it.\n",
    "df = df.drop(columns='description', axis=0)"
   ]
  },
  {
   "cell_type": "code",
   "execution_count": 85,
   "id": "308f6829",
   "metadata": {},
   "outputs": [
    {
     "name": "stdout",
     "output_type": "stream",
     "text": [
      "<class 'pandas.core.frame.DataFrame'>\n",
      "RangeIndex: 8807 entries, 0 to 8806\n",
      "Data columns (total 11 columns):\n",
      " #   Column        Non-Null Count  Dtype \n",
      "---  ------        --------------  ----- \n",
      " 0   show_id       8807 non-null   object\n",
      " 1   type          8807 non-null   object\n",
      " 2   title         8807 non-null   object\n",
      " 3   director      8807 non-null   object\n",
      " 4   cast          8807 non-null   object\n",
      " 5   country       8807 non-null   object\n",
      " 6   date_added    8807 non-null   object\n",
      " 7   release_year  8807 non-null   int64 \n",
      " 8   rating        8807 non-null   object\n",
      " 9   duration      8807 non-null   object\n",
      " 10  listed_in     8807 non-null   object\n",
      "dtypes: int64(1), object(10)\n",
      "memory usage: 757.0+ KB\n"
     ]
    }
   ],
   "source": [
    "df.info()"
   ]
  },
  {
   "cell_type": "code",
   "execution_count": 86,
   "id": "5ac36690",
   "metadata": {},
   "outputs": [
    {
     "data": {
      "text/plain": [
       "type\n",
       "Movie      6131\n",
       "TV Show    2676\n",
       "Name: count, dtype: int64"
      ]
     },
     "execution_count": 86,
     "metadata": {},
     "output_type": "execute_result"
    }
   ],
   "source": [
    "# Now, I will check unique values for specific column\n",
    "df['type'].value_counts()"
   ]
  },
  {
   "cell_type": "code",
   "execution_count": 87,
   "id": "dbcd2ac4",
   "metadata": {},
   "outputs": [
    {
     "data": {
      "text/plain": [
       "country\n",
       "United States     2818\n",
       "India              972\n",
       "Unknown            831\n",
       "United Kingdom     419\n",
       "Japan              245\n",
       "Name: count, dtype: int64"
      ]
     },
     "execution_count": 87,
     "metadata": {},
     "output_type": "execute_result"
    }
   ],
   "source": [
    "df['country'].value_counts().head()"
   ]
  },
  {
   "cell_type": "code",
   "execution_count": 88,
   "id": "ea2aea2b",
   "metadata": {},
   "outputs": [
    {
     "data": {
      "text/plain": [
       "duration\n",
       "1 Season     1793\n",
       "2 Seasons     425\n",
       "3 Seasons     199\n",
       "90 min        152\n",
       "94 min        146\n",
       "Name: count, dtype: int64"
      ]
     },
     "execution_count": 88,
     "metadata": {},
     "output_type": "execute_result"
    }
   ],
   "source": [
    "df['duration'].value_counts().head()"
   ]
  },
  {
   "cell_type": "markdown",
   "id": "67477a21",
   "metadata": {},
   "source": [
    "### Working with `rating` column"
   ]
  },
  {
   "cell_type": "code",
   "execution_count": 89,
   "id": "0c97617d",
   "metadata": {},
   "outputs": [
    {
     "data": {
      "text/plain": [
       "array(['PG-13', 'TV-MA', 'PG', 'TV-14', 'TV-PG', 'TV-Y', 'TV-Y7', 'R',\n",
       "       'TV-G', 'G', 'NC-17', '74 min', '84 min', '66 min', 'NR',\n",
       "       'Not Rated', 'TV-Y7-FV', 'UR'], dtype=object)"
      ]
     },
     "execution_count": 89,
     "metadata": {},
     "output_type": "execute_result"
    }
   ],
   "source": [
    "df['rating'].unique()"
   ]
  },
  {
   "cell_type": "code",
   "execution_count": 90,
   "id": "5e075442",
   "metadata": {},
   "outputs": [
    {
     "data": {
      "text/plain": [
       "rating\n",
       "TV-MA        3207\n",
       "TV-14        2160\n",
       "TV-PG         863\n",
       "R             799\n",
       "PG-13         490\n",
       "TV-Y7         334\n",
       "TV-Y          307\n",
       "PG            287\n",
       "TV-G          220\n",
       "NR             80\n",
       "G              41\n",
       "TV-Y7-FV        6\n",
       "Not Rated       4\n",
       "NC-17           3\n",
       "UR              3\n",
       "66 min          1\n",
       "74 min          1\n",
       "84 min          1\n",
       "Name: count, dtype: int64"
      ]
     },
     "execution_count": 90,
     "metadata": {},
     "output_type": "execute_result"
    }
   ],
   "source": [
    "df['rating'].value_counts()"
   ]
  },
  {
   "cell_type": "code",
   "execution_count": 91,
   "id": "7d1d7433",
   "metadata": {},
   "outputs": [],
   "source": [
    "# '74 min', '84 min' and '66 min' obviously are not ratings. \n",
    "# Let's replace them with \"Not Rated\".\n",
    "duration_ratings = ['66 min', '74 min', '84 min']\n",
    "df.loc[df['rating'].isin(duration_ratings), 'rating'] = 'Not Rated'"
   ]
  },
  {
   "cell_type": "code",
   "execution_count": 92,
   "id": "b33777ea",
   "metadata": {},
   "outputs": [
    {
     "data": {
      "text/plain": [
       "rating\n",
       "TV-MA        3207\n",
       "TV-14        2160\n",
       "TV-PG         863\n",
       "R             799\n",
       "PG-13         490\n",
       "TV-Y7         334\n",
       "TV-Y          307\n",
       "PG            287\n",
       "TV-G          220\n",
       "NR             80\n",
       "G              41\n",
       "Not Rated       7\n",
       "TV-Y7-FV        6\n",
       "NC-17           3\n",
       "UR              3\n",
       "Name: count, dtype: int64"
      ]
     },
     "execution_count": 92,
     "metadata": {},
     "output_type": "execute_result"
    }
   ],
   "source": [
    "df['rating'].value_counts()"
   ]
  },
  {
   "cell_type": "code",
   "execution_count": 93,
   "id": "6f486a77",
   "metadata": {},
   "outputs": [],
   "source": [
    "# UR (Unrated), NR (Not Rated), and \"Not Rated\" \n",
    "# all mean essentially the same thing. Thus, I can replace UR and NR with just \"Not Rated\"\n",
    "not_rated = ['UR', 'NR']\n",
    "df.loc[df['rating'].isin(not_rated), 'rating'] = 'Not Rated'"
   ]
  },
  {
   "cell_type": "code",
   "execution_count": 94,
   "id": "6993f72b",
   "metadata": {},
   "outputs": [
    {
     "data": {
      "text/plain": [
       "rating\n",
       "TV-MA        3207\n",
       "TV-14        2160\n",
       "TV-PG         863\n",
       "R             799\n",
       "PG-13         490\n",
       "TV-Y7         334\n",
       "TV-Y          307\n",
       "PG            287\n",
       "TV-G          220\n",
       "Not Rated      90\n",
       "G              41\n",
       "TV-Y7-FV        6\n",
       "NC-17           3\n",
       "Name: count, dtype: int64"
      ]
     },
     "execution_count": 94,
     "metadata": {},
     "output_type": "execute_result"
    }
   ],
   "source": [
    "df['rating'].value_counts()"
   ]
  },
  {
   "cell_type": "markdown",
   "id": "25df60fc",
   "metadata": {},
   "source": [
    "### Working with `country` column"
   ]
  },
  {
   "cell_type": "code",
   "execution_count": 96,
   "id": "60e5adcf",
   "metadata": {},
   "outputs": [
    {
     "data": {
      "text/plain": [
       "country\n",
       "United States                                    2818\n",
       "India                                             972\n",
       "Unknown                                           831\n",
       "United Kingdom                                    419\n",
       "Japan                                             245\n",
       "                                                 ... \n",
       "Russia, Spain                                       1\n",
       "Croatia, Slovenia, Serbia, Montenegro               1\n",
       "Japan, Canada                                       1\n",
       "United States, France, South Korea, Indonesia       1\n",
       "Canada, Mexico, Germany, South Africa               1\n",
       "Name: count, Length: 749, dtype: int64"
      ]
     },
     "execution_count": 96,
     "metadata": {},
     "output_type": "execute_result"
    }
   ],
   "source": [
    "df['country'].value_counts()"
   ]
  },
  {
   "cell_type": "markdown",
   "id": "8b59aa91",
   "metadata": {},
   "source": [
    "Those combined countries (like \"Russia, Spain\", \"Croatia, Slovenia, Serbia, Montenegro\") are problematic for analysis. For this reason, I will just keep first country as a primary country."
   ]
  },
  {
   "cell_type": "code",
   "execution_count": 100,
   "id": "9d646161",
   "metadata": {},
   "outputs": [],
   "source": [
    "def take_first_country(source: str) -> str:\n",
    "    source = source.split(\",\")\n",
    "    return source[0]"
   ]
  },
  {
   "cell_type": "code",
   "execution_count": 102,
   "id": "fe91800c",
   "metadata": {},
   "outputs": [
    {
     "data": {
      "text/plain": [
       "'Croatia'"
      ]
     },
     "execution_count": 102,
     "metadata": {},
     "output_type": "execute_result"
    }
   ],
   "source": [
    "take_first_country(\"Croatia, Slovenia, Serbia, Montenegro\")"
   ]
  },
  {
   "cell_type": "code",
   "execution_count": 103,
   "id": "442f555a",
   "metadata": {},
   "outputs": [],
   "source": [
    "df['country'] = df['country'].apply(func=take_first_country)"
   ]
  },
  {
   "cell_type": "code",
   "execution_count": 104,
   "id": "72beb6c5",
   "metadata": {},
   "outputs": [
    {
     "data": {
      "text/plain": [
       "country\n",
       "United States     3211\n",
       "India             1008\n",
       "Unknown            831\n",
       "United Kingdom     628\n",
       "Canada             271\n",
       "                  ... \n",
       "West Germany         1\n",
       "Slovenia             1\n",
       "Guatemala            1\n",
       "Jamaica              1\n",
       "Somalia              1\n",
       "Name: count, Length: 87, dtype: int64"
      ]
     },
     "execution_count": 104,
     "metadata": {},
     "output_type": "execute_result"
    }
   ],
   "source": [
    "df['country'].value_counts()"
   ]
  },
  {
   "cell_type": "code",
   "execution_count": 10,
   "id": "efbc0b5e",
   "metadata": {},
   "outputs": [
    {
     "data": {
      "text/plain": [
       "8807"
      ]
     },
     "execution_count": 10,
     "metadata": {},
     "output_type": "execute_result"
    }
   ],
   "source": [
    "# Number of distinct shows\n",
    "len(df['show_id'].unique())"
   ]
  },
  {
   "cell_type": "code",
   "execution_count": 11,
   "id": "8498c38b",
   "metadata": {},
   "outputs": [
    {
     "data": {
      "text/plain": [
       "array(['Movie', 'TV Show'], dtype=object)"
      ]
     },
     "execution_count": 11,
     "metadata": {},
     "output_type": "execute_result"
    }
   ],
   "source": [
    "# Types of shows presented by Netflix\n",
    "df['type'].unique()"
   ]
  },
  {
   "cell_type": "code",
   "execution_count": 12,
   "id": "11bf6763",
   "metadata": {},
   "outputs": [
    {
     "data": {
      "text/plain": [
       "0       United States\n",
       "1        South Africa\n",
       "2                 NaN\n",
       "3                 NaN\n",
       "4               India\n",
       "            ...      \n",
       "8802    United States\n",
       "8803              NaN\n",
       "8804    United States\n",
       "8805    United States\n",
       "8806            India\n",
       "Name: country, Length: 8807, dtype: object"
      ]
     },
     "execution_count": 12,
     "metadata": {},
     "output_type": "execute_result"
    }
   ],
   "source": [
    "df['country'] # Country where the movie/show was produced"
   ]
  },
  {
   "cell_type": "code",
   "execution_count": 13,
   "id": "b8918776",
   "metadata": {},
   "outputs": [
    {
     "data": {
      "text/plain": [
       "0       As her father nears the end of his life, filmm...\n",
       "1       After crossing paths at a party, a Cape Town t...\n",
       "2       To protect his family from a powerful drug lor...\n",
       "3       Feuds, flirtations and toilet talk go down amo...\n",
       "4       In a city of coaching centers known to train I...\n",
       "                              ...                        \n",
       "8802    A political cartoonist, a crime reporter and a...\n",
       "8803    While living alone in a spooky town, a young g...\n",
       "8804    Looking to survive in a world taken over by zo...\n",
       "8805    Dragged from civilian life, a former superhero...\n",
       "8806    A scrappy but poor boy worms his way into a ty...\n",
       "Name: description, Length: 8807, dtype: object"
      ]
     },
     "execution_count": 13,
     "metadata": {},
     "output_type": "execute_result"
    }
   ],
   "source": [
    "df['description']"
   ]
  },
  {
   "cell_type": "code",
   "execution_count": 14,
   "id": "5b87e1ea",
   "metadata": {},
   "outputs": [],
   "source": [
    "# It seems that we are not going to work with descriptions,\n",
    "# Thus, I am dropping it.\n",
    "df = df.drop(columns='description', axis=0)"
   ]
  },
  {
   "cell_type": "code",
   "execution_count": 15,
   "id": "8e509849",
   "metadata": {},
   "outputs": [
    {
     "data": {
      "text/plain": [
       "array(['Documentaries', 'International TV Shows, TV Dramas, TV Mysteries',\n",
       "       'Crime TV Shows, International TV Shows, TV Action & Adventure',\n",
       "       'Docuseries, Reality TV',\n",
       "       'International TV Shows, Romantic TV Shows, TV Comedies',\n",
       "       'TV Dramas, TV Horror, TV Mysteries', 'Children & Family Movies',\n",
       "       'Dramas, Independent Movies, International Movies',\n",
       "       'British TV Shows, Reality TV', 'Comedies, Dramas',\n",
       "       'Crime TV Shows, Docuseries, International TV Shows',\n",
       "       'Dramas, International Movies',\n",
       "       'Children & Family Movies, Comedies',\n",
       "       'British TV Shows, Crime TV Shows, Docuseries',\n",
       "       'TV Comedies, TV Dramas', 'Documentaries, International Movies',\n",
       "       'Crime TV Shows, Spanish-Language TV Shows, TV Dramas',\n",
       "       'Thrillers',\n",
       "       'International TV Shows, Spanish-Language TV Shows, TV Action & Adventure',\n",
       "       'International TV Shows, TV Action & Adventure, TV Dramas',\n",
       "       'Comedies, International Movies',\n",
       "       'Comedies, International Movies, Romantic Movies',\n",
       "       'Docuseries, International TV Shows, Reality TV',\n",
       "       'Comedies, International Movies, Music & Musicals', 'Comedies',\n",
       "       'Horror Movies, Sci-Fi & Fantasy', 'TV Comedies',\n",
       "       'British TV Shows, International TV Shows, TV Comedies',\n",
       "       'International TV Shows, TV Dramas, TV Thrillers', \"Kids' TV\",\n",
       "       'Dramas, International Movies, Thrillers',\n",
       "       'Action & Adventure, Dramas, International Movies',\n",
       "       \"Kids' TV, TV Comedies\", 'Action & Adventure, Dramas',\n",
       "       \"Kids' TV, TV Sci-Fi & Fantasy\",\n",
       "       'Action & Adventure, Classic Movies, Dramas',\n",
       "       'Dramas, Horror Movies, Thrillers',\n",
       "       'Action & Adventure, Horror Movies, Thrillers',\n",
       "       'Action & Adventure', 'Dramas, Thrillers',\n",
       "       'International TV Shows, TV Dramas',\n",
       "       'International TV Shows, TV Dramas, TV Sci-Fi & Fantasy',\n",
       "       'Action & Adventure, Anime Features, International Movies',\n",
       "       'Reality TV', 'Docuseries, International TV Shows',\n",
       "       'Documentaries, International Movies, Sports Movies',\n",
       "       'International TV Shows, Reality TV, Romantic TV Shows',\n",
       "       'British TV Shows, Docuseries, International TV Shows',\n",
       "       'Anime Series, International TV Shows',\n",
       "       'Comedies, Dramas, International Movies',\n",
       "       'Crime TV Shows, TV Comedies, TV Dramas',\n",
       "       'Action & Adventure, Comedies, Dramas', \"Anime Series, Kids' TV\",\n",
       "       'International Movies, Thrillers', \"Kids' TV, Korean TV Shows\",\n",
       "       'Documentaries, Sports Movies', 'Sci-Fi & Fantasy, Thrillers',\n",
       "       'Dramas, International Movies, Romantic Movies',\n",
       "       'Documentaries, Music & Musicals',\n",
       "       \"Kids' TV, TV Comedies, TV Sci-Fi & Fantasy\",\n",
       "       \"British TV Shows, Kids' TV\", 'Docuseries, Science & Nature TV',\n",
       "       'Children & Family Movies, Dramas',\n",
       "       \"Kids' TV, TV Dramas, Teen TV Shows\",\n",
       "       'Crime TV Shows, International TV Shows, Spanish-Language TV Shows',\n",
       "       'Docuseries, International TV Shows, Spanish-Language TV Shows',\n",
       "       'Dramas', 'Comedies, Romantic Movies', 'Dramas, Romantic Movies',\n",
       "       'Comedies, Dramas, Independent Movies',\n",
       "       'Crime TV Shows, TV Action & Adventure, TV Comedies',\n",
       "       'Children & Family Movies, Music & Musicals',\n",
       "       'Action & Adventure, Classic Movies, Cult Movies',\n",
       "       'International TV Shows, TV Action & Adventure, TV Comedies',\n",
       "       'Action & Adventure, Sci-Fi & Fantasy',\n",
       "       'Action & Adventure, Comedies', 'Classic Movies, Comedies, Dramas',\n",
       "       'Comedies, Cult Movies', 'Comedies, Cult Movies, Music & Musicals',\n",
       "       'Comedies, Music & Musicals', 'TV Shows',\n",
       "       'Action & Adventure, International Movies',\n",
       "       'Anime Series, International TV Shows, Teen TV Shows',\n",
       "       'Action & Adventure, Children & Family Movies, Cult Movies',\n",
       "       'Comedies, Dramas, Romantic Movies',\n",
       "       'Comedies, Cult Movies, Sci-Fi & Fantasy',\n",
       "       'Classic Movies, Dramas',\n",
       "       'Action & Adventure, Children & Family Movies, Comedies',\n",
       "       'Dramas, Faith & Spirituality', 'Documentaries, LGBTQ Movies',\n",
       "       'Action & Adventure, Classic Movies', 'Docuseries',\n",
       "       'International TV Shows, TV Comedies',\n",
       "       'Dramas, Independent Movies',\n",
       "       'Action & Adventure, Comedies, International Movies',\n",
       "       'International TV Shows, Spanish-Language TV Shows, TV Dramas',\n",
       "       'Crime TV Shows, International TV Shows, TV Dramas',\n",
       "       'Action & Adventure, Horror Movies, International Movies',\n",
       "       'Comedies, International Movies, Sci-Fi & Fantasy',\n",
       "       'Action & Adventure, International Movies, Music & Musicals',\n",
       "       'Dramas, International Movies, Music & Musicals',\n",
       "       'Horror Movies, International Movies', 'Reality TV, Teen TV Shows',\n",
       "       'Crime TV Shows, TV Dramas, TV Mysteries',\n",
       "       'International TV Shows, Reality TV',\n",
       "       'International TV Shows, TV Comedies, TV Dramas',\n",
       "       'Dramas, Independent Movies, Romantic Movies', 'Horror Movies',\n",
       "       'Documentaries, LGBTQ Movies, Sports Movies',\n",
       "       'Horror Movies, International Movies, Thrillers',\n",
       "       'Action & Adventure, Anime Features',\n",
       "       'TV Dramas, TV Mysteries, TV Sci-Fi & Fantasy',\n",
       "       'International TV Shows, Spanish-Language TV Shows, TV Comedies',\n",
       "       'Children & Family Movies, Comedies, Music & Musicals',\n",
       "       'Comedies, Independent Movies',\n",
       "       'Anime Series, International TV Shows, Romantic TV Shows',\n",
       "       'Classic Movies, Dramas, Independent Movies',\n",
       "       'International TV Shows, Romantic TV Shows, Spanish-Language TV Shows',\n",
       "       'International TV Shows, TV Dramas, Teen TV Shows',\n",
       "       'Stand-Up Comedy',\n",
       "       'Action & Adventure, Anime Features, Children & Family Movies',\n",
       "       'International TV Shows, Romantic TV Shows, TV Dramas',\n",
       "       'International Movies, Music & Musicals',\n",
       "       'TV Action & Adventure, TV Dramas, TV Mysteries',\n",
       "       'Horror Movies, Independent Movies, International Movies',\n",
       "       'Comedies, Cult Movies, International Movies',\n",
       "       'Classic Movies, Dramas, International Movies', 'Movies',\n",
       "       'Crime TV Shows, Docuseries',\n",
       "       'Children & Family Movies, Comedies, Sci-Fi & Fantasy',\n",
       "       'Anime Series, International TV Shows, TV Thrillers',\n",
       "       'Action & Adventure, Horror Movies, Sci-Fi & Fantasy',\n",
       "       'Classic Movies, Comedies, Cult Movies',\n",
       "       'TV Dramas, Teen TV Shows',\n",
       "       'Action & Adventure, Sci-Fi & Fantasy, Thrillers',\n",
       "       'Children & Family Movies, Comedies, Dramas',\n",
       "       'Dramas, Sports Movies',\n",
       "       'Action & Adventure, Dramas, Sci-Fi & Fantasy',\n",
       "       'Action & Adventure, Comedies, Cult Movies',\n",
       "       'Dramas, Independent Movies, Thrillers',\n",
       "       'TV Dramas, TV Sci-Fi & Fantasy',\n",
       "       'Action & Adventure, International Movies, Thrillers',\n",
       "       'British TV Shows, International TV Shows, Reality TV',\n",
       "       'TV Action & Adventure, TV Dramas, Teen TV Shows', 'Anime Series',\n",
       "       'Crime TV Shows, TV Action & Adventure, TV Sci-Fi & Fantasy',\n",
       "       'Crime TV Shows, International TV Shows, TV Comedies',\n",
       "       'Stand-Up Comedy & Talk Shows, TV Comedies',\n",
       "       'Classic & Cult TV, TV Action & Adventure, TV Dramas',\n",
       "       'Children & Family Movies, Sports Movies',\n",
       "       'TV Action & Adventure, TV Sci-Fi & Fantasy',\n",
       "       'Anime Series, Stand-Up Comedy & Talk Shows', 'TV Dramas',\n",
       "       'Anime Features, Children & Family Movies, International Movies',\n",
       "       'Classic & Cult TV, Crime TV Shows, International TV Shows',\n",
       "       'Crime TV Shows, International TV Shows, Romantic TV Shows',\n",
       "       'Horror Movies, LGBTQ Movies',\n",
       "       'Action & Adventure, Dramas, Romantic Movies',\n",
       "       'Documentaries, International Movies, Music & Musicals',\n",
       "       'TV Comedies, TV Dramas, Teen TV Shows',\n",
       "       'Children & Family Movies, Comedies, Sports Movies',\n",
       "       'Children & Family Movies, Dramas, International Movies',\n",
       "       'Comedies, Documentaries, International Movies',\n",
       "       'Romantic TV Shows, TV Dramas',\n",
       "       'Anime Series, TV Horror, TV Thrillers',\n",
       "       'International Movies, Romantic Movies',\n",
       "       'TV Action & Adventure, TV Dramas, TV Sci-Fi & Fantasy',\n",
       "       \"Kids' TV, Korean TV Shows, TV Comedies\",\n",
       "       'British TV Shows, Crime TV Shows, International TV Shows',\n",
       "       'Crime TV Shows, TV Horror, TV Mysteries',\n",
       "       'Docuseries, International TV Shows, Science & Nature TV',\n",
       "       'British TV Shows, International TV Shows, TV Dramas',\n",
       "       \"Kids' TV, TV Action & Adventure, TV Sci-Fi & Fantasy\",\n",
       "       'International Movies, Romantic Movies, Thrillers',\n",
       "       'Action & Adventure, Cult Movies, International Movies',\n",
       "       'Action & Adventure, Comedies, Sci-Fi & Fantasy',\n",
       "       \"International TV Shows, Kids' TV, TV Mysteries\",\n",
       "       'Action & Adventure, Thrillers',\n",
       "       'Dramas, Faith & Spirituality, International Movies',\n",
       "       'Action & Adventure, Classic Movies, Comedies',\n",
       "       'Action & Adventure, Comedies, Sports Movies',\n",
       "       'Action & Adventure, Children & Family Movies, Classic Movies',\n",
       "       'Action & Adventure, Children & Family Movies, Dramas',\n",
       "       'Horror Movies, Thrillers', 'Action & Adventure, Romantic Movies',\n",
       "       'Dramas, Romantic Movies, Sci-Fi & Fantasy',\n",
       "       'Dramas, Music & Musicals, Romantic Movies',\n",
       "       'Anime Series, Crime TV Shows, International TV Shows',\n",
       "       'Reality TV, Romantic TV Shows',\n",
       "       'International Movies, Music & Musicals, Romantic Movies',\n",
       "       'Reality TV, TV Action & Adventure, TV Mysteries',\n",
       "       'Crime TV Shows, TV Dramas',\n",
       "       'International TV Shows, Reality TV, Spanish-Language TV Shows',\n",
       "       'Crime TV Shows, TV Dramas, TV Thrillers',\n",
       "       'British TV Shows, Docuseries',\n",
       "       'International TV Shows, Korean TV Shows, TV Comedies',\n",
       "       'Action & Adventure, Anime Features, Classic Movies',\n",
       "       'TV Action & Adventure, TV Dramas, TV Horror',\n",
       "       'Crime TV Shows, International TV Shows, TV Thrillers',\n",
       "       'Anime Series, Crime TV Shows, TV Horror',\n",
       "       'Anime Features, Documentaries', 'Comedies, Horror Movies',\n",
       "       'International TV Shows, Spanish-Language TV Shows, Stand-Up Comedy & Talk Shows',\n",
       "       'Children & Family Movies, Documentaries, International Movies',\n",
       "       'Romantic TV Shows, TV Comedies, TV Dramas',\n",
       "       'Dramas, Faith & Spirituality, Romantic Movies',\n",
       "       'Dramas, Independent Movies, LGBTQ Movies',\n",
       "       'Comedies, Independent Movies, LGBTQ Movies',\n",
       "       'Action & Adventure, Cult Movies, Sci-Fi & Fantasy',\n",
       "       'Cult Movies, Horror Movies',\n",
       "       'Action & Adventure, Dramas, Sports Movies',\n",
       "       'Anime Series, Romantic TV Shows, Teen TV Shows',\n",
       "       'Dramas, International Movies, LGBTQ Movies',\n",
       "       'Dramas, Romantic Movies, Thrillers',\n",
       "       'Children & Family Movies, Dramas, Faith & Spirituality',\n",
       "       'Dramas, International Movies, Sports Movies',\n",
       "       'Action & Adventure, Horror Movies',\n",
       "       'Documentaries, International Movies, LGBTQ Movies',\n",
       "       'Dramas, Independent Movies, Sci-Fi & Fantasy',\n",
       "       'Comedies, Independent Movies, International Movies',\n",
       "       'Reality TV, TV Horror, TV Thrillers',\n",
       "       'TV Action & Adventure, TV Horror, TV Sci-Fi & Fantasy',\n",
       "       'International TV Shows, TV Horror, TV Sci-Fi & Fantasy',\n",
       "       'Independent Movies, International Movies, Thrillers',\n",
       "       'Independent Movies, Thrillers', 'Documentaries, Dramas',\n",
       "       'Action & Adventure, Sports Movies',\n",
       "       'Dramas, International Movies, Sci-Fi & Fantasy',\n",
       "       'Comedies, Independent Movies, Romantic Movies',\n",
       "       'Horror Movies, Romantic Movies, Sci-Fi & Fantasy',\n",
       "       'International TV Shows, Stand-Up Comedy & Talk Shows',\n",
       "       'Action & Adventure, Anime Features, Horror Movies',\n",
       "       'Cult Movies, Dramas, Music & Musicals', 'TV Dramas, TV Thrillers',\n",
       "       'Crime TV Shows, International TV Shows, Korean TV Shows',\n",
       "       'TV Horror, TV Mysteries, TV Thrillers',\n",
       "       'Comedies, Horror Movies, International Movies',\n",
       "       'Crime TV Shows, Docuseries, TV Mysteries',\n",
       "       'Comedies, International Movies, Sports Movies',\n",
       "       'Classic Movies, Music & Musicals',\n",
       "       'Reality TV, TV Comedies, TV Horror',\n",
       "       'Children & Family Movies, Faith & Spirituality, Music & Musicals',\n",
       "       'International TV Shows, Korean TV Shows, Stand-Up Comedy & Talk Shows',\n",
       "       'Dramas, Music & Musicals',\n",
       "       'Docuseries, Science & Nature TV, TV Action & Adventure',\n",
       "       \"British TV Shows, Kids' TV, TV Dramas\",\n",
       "       'International TV Shows, Korean TV Shows, Romantic TV Shows',\n",
       "       'Horror Movies, Independent Movies',\n",
       "       \"Anime Series, Kids' TV, TV Action & Adventure\",\n",
       "       'Comedies, Dramas, Music & Musicals', 'TV Horror, Teen TV Shows',\n",
       "       'Comedies, LGBTQ Movies, Thrillers',\n",
       "       'Docuseries, Reality TV, Science & Nature TV',\n",
       "       'Crime TV Shows, Spanish-Language TV Shows, TV Action & Adventure',\n",
       "       'Romantic TV Shows, Teen TV Shows', 'TV Comedies, Teen TV Shows',\n",
       "       'Romantic TV Shows, TV Dramas, Teen TV Shows',\n",
       "       'Children & Family Movies, Sci-Fi & Fantasy',\n",
       "       'Romantic TV Shows, TV Action & Adventure, TV Dramas',\n",
       "       'Comedies, International Movies, LGBTQ Movies',\n",
       "       'Dramas, Sci-Fi & Fantasy', \"Kids' TV, TV Thrillers\",\n",
       "       'TV Action & Adventure, TV Comedies, TV Sci-Fi & Fantasy',\n",
       "       'British TV Shows, Romantic TV Shows, TV Dramas',\n",
       "       'Anime Series, International TV Shows, Spanish-Language TV Shows',\n",
       "       'Docuseries, TV Comedies',\n",
       "       'Comedies, Romantic Movies, Sports Movies',\n",
       "       'TV Action & Adventure, TV Comedies, TV Dramas',\n",
       "       'Children & Family Movies, Dramas, Sports Movies',\n",
       "       'Action & Adventure, Dramas, Independent Movies',\n",
       "       'Spanish-Language TV Shows, TV Dramas', 'Dramas, LGBTQ Movies',\n",
       "       'TV Horror, TV Mysteries, TV Sci-Fi & Fantasy',\n",
       "       'Action & Adventure, Dramas, Faith & Spirituality',\n",
       "       'International TV Shows, TV Mysteries, TV Thrillers',\n",
       "       'British TV Shows, Classic & Cult TV, International TV Shows',\n",
       "       'Action & Adventure, Comedies, Independent Movies',\n",
       "       'Music & Musicals', \"British TV Shows, Kids' TV, TV Comedies\",\n",
       "       'Docuseries, Spanish-Language TV Shows',\n",
       "       'Dramas, Independent Movies, Sports Movies',\n",
       "       'TV Dramas, TV Mysteries, TV Thrillers',\n",
       "       'Comedies, LGBTQ Movies, Music & Musicals',\n",
       "       'International TV Shows, TV Action & Adventure, TV Mysteries',\n",
       "       \"Kids' TV, TV Comedies, Teen TV Shows\",\n",
       "       'International TV Shows, TV Dramas, TV Horror',\n",
       "       'Comedies, International Movies, Thrillers',\n",
       "       'Classic & Cult TV, TV Action & Adventure, TV Sci-Fi & Fantasy',\n",
       "       'International TV Shows, TV Horror, TV Mysteries',\n",
       "       'Children & Family Movies, Documentaries',\n",
       "       'Music & Musicals, Romantic Movies', 'Romantic Movies',\n",
       "       'Children & Family Movies, Classic Movies, Comedies',\n",
       "       'TV Action & Adventure, TV Dramas',\n",
       "       'Dramas, LGBTQ Movies, Romantic Movies',\n",
       "       'Children & Family Movies, Comedies, Romantic Movies',\n",
       "       'Comedies, Sports Movies', 'International Movies',\n",
       "       'International TV Shows, Romantic TV Shows, TV Mysteries',\n",
       "       'Stand-Up Comedy & Talk Shows',\n",
       "       'Action & Adventure, International Movies, Romantic Movies',\n",
       "       'Reality TV, TV Comedies',\n",
       "       'Cult Movies, Dramas, International Movies', \"Kids' TV, TV Dramas\",\n",
       "       'Crime TV Shows, International TV Shows, TV Mysteries',\n",
       "       'Action & Adventure, Sci-Fi & Fantasy, Sports Movies',\n",
       "       'TV Dramas, TV Sci-Fi & Fantasy, TV Thrillers',\n",
       "       'Romantic TV Shows, TV Dramas, TV Sci-Fi & Fantasy',\n",
       "       'Docuseries, TV Sci-Fi & Fantasy',\n",
       "       'Anime Features, International Movies',\n",
       "       \"British TV Shows, Classic & Cult TV, Kids' TV\",\n",
       "       'British TV Shows, Reality TV, Romantic TV Shows',\n",
       "       'Documentaries, Faith & Spirituality, International Movies',\n",
       "       \"Kids' TV, Reality TV, TV Dramas\", 'LGBTQ Movies, Thrillers',\n",
       "       'TV Action & Adventure, TV Mysteries, TV Sci-Fi & Fantasy',\n",
       "       'Reality TV, Science & Nature TV',\n",
       "       \"Kids' TV, TV Action & Adventure, TV Comedies\",\n",
       "       'International TV Shows, Romantic TV Shows, TV Action & Adventure',\n",
       "       'Children & Family Movies, Dramas, Independent Movies',\n",
       "       'Comedies, Music & Musicals, Romantic Movies',\n",
       "       'International TV Shows, Korean TV Shows, Reality TV',\n",
       "       'Classic & Cult TV, TV Dramas, TV Sci-Fi & Fantasy',\n",
       "       'Anime Features, Children & Family Movies',\n",
       "       'Action & Adventure, International Movies, Sci-Fi & Fantasy',\n",
       "       'Crime TV Shows, TV Action & Adventure, TV Dramas',\n",
       "       'Classic & Cult TV, TV Action & Adventure, TV Horror',\n",
       "       'International TV Shows, Korean TV Shows, TV Dramas',\n",
       "       'International TV Shows, TV Action & Adventure, TV Horror',\n",
       "       'Action & Adventure, Comedies, Romantic Movies',\n",
       "       'International TV Shows, Korean TV Shows, TV Action & Adventure',\n",
       "       \"Classic & Cult TV, Kids' TV, TV Action & Adventure\",\n",
       "       'Anime Series, International TV Shows, TV Horror',\n",
       "       'International TV Shows, Korean TV Shows, TV Horror',\n",
       "       'Children & Family Movies, Comedies, International Movies',\n",
       "       'International Movies, Sci-Fi & Fantasy',\n",
       "       'International Movies, Sci-Fi & Fantasy, Thrillers',\n",
       "       'Children & Family Movies, Dramas, Romantic Movies',\n",
       "       'Anime Series, Romantic TV Shows',\n",
       "       'Comedies, Dramas, LGBTQ Movies',\n",
       "       'British TV Shows, International TV Shows, TV Action & Adventure',\n",
       "       'Docuseries, Science & Nature TV, TV Comedies',\n",
       "       'International TV Shows, Stand-Up Comedy & Talk Shows, TV Comedies',\n",
       "       'Children & Family Movies, Dramas, Music & Musicals',\n",
       "       'Action & Adventure, Independent Movies, International Movies',\n",
       "       'Action & Adventure, Children & Family Movies, Sci-Fi & Fantasy',\n",
       "       'Horror Movies, Independent Movies, Sci-Fi & Fantasy',\n",
       "       'TV Dramas, TV Sci-Fi & Fantasy, Teen TV Shows',\n",
       "       'Anime Features, International Movies, Sci-Fi & Fantasy',\n",
       "       'Dramas, Independent Movies, Music & Musicals',\n",
       "       \"Kids' TV, TV Comedies, TV Dramas\",\n",
       "       'Children & Family Movies, Documentaries, Sports Movies',\n",
       "       'Independent Movies, Sci-Fi & Fantasy, Thrillers',\n",
       "       'Anime Features, Music & Musicals, Sci-Fi & Fantasy',\n",
       "       'TV Comedies, TV Dramas, TV Sci-Fi & Fantasy',\n",
       "       'Crime TV Shows, TV Action & Adventure',\n",
       "       'Comedies, Faith & Spirituality, Romantic Movies',\n",
       "       \"Kids' TV, TV Action & Adventure\",\n",
       "       'Action & Adventure, Independent Movies',\n",
       "       'International TV Shows, Reality TV, TV Comedies',\n",
       "       'Docuseries, Reality TV, Teen TV Shows',\n",
       "       'Crime TV Shows, International TV Shows, Reality TV',\n",
       "       'Anime Series, Teen TV Shows',\n",
       "       'Crime TV Shows, Romantic TV Shows, TV Dramas',\n",
       "       'Anime Features, Romantic Movies',\n",
       "       'Horror Movies, Sci-Fi & Fantasy, Thrillers',\n",
       "       'International TV Shows, TV Comedies, TV Sci-Fi & Fantasy',\n",
       "       'International TV Shows, Romantic TV Shows',\n",
       "       'Anime Features, Music & Musicals',\n",
       "       'Anime Features, International Movies, Romantic Movies',\n",
       "       'International TV Shows, Romantic TV Shows, Teen TV Shows',\n",
       "       'Docuseries, Stand-Up Comedy & Talk Shows',\n",
       "       'Horror Movies, Independent Movies, Thrillers',\n",
       "       'TV Action & Adventure, TV Comedies, TV Horror',\n",
       "       'Documentaries, Stand-Up Comedy',\n",
       "       \"Kids' TV, Spanish-Language TV Shows\",\n",
       "       \"British TV Shows, Kids' TV, TV Thrillers\",\n",
       "       \"Kids' TV, TV Action & Adventure, TV Dramas\",\n",
       "       'Anime Series, Crime TV Shows',\n",
       "       'Dramas, Sci-Fi & Fantasy, Thrillers',\n",
       "       'TV Comedies, TV Dramas, TV Horror',\n",
       "       'Children & Family Movies, Comedies, LGBTQ Movies',\n",
       "       'International TV Shows, TV Action & Adventure, TV Sci-Fi & Fantasy',\n",
       "       'Docuseries, TV Dramas',\n",
       "       'Horror Movies, International Movies, Romantic Movies',\n",
       "       'Crime TV Shows, Docuseries, Science & Nature TV',\n",
       "       'International Movies, Music & Musicals, Thrillers',\n",
       "       \"Kids' TV, Spanish-Language TV Shows, Teen TV Shows\",\n",
       "       'Comedies, Horror Movies, Independent Movies',\n",
       "       'Action & Adventure, International Movies, Sports Movies',\n",
       "       'Action & Adventure, Independent Movies, Sci-Fi & Fantasy',\n",
       "       'Horror Movies, LGBTQ Movies, Music & Musicals',\n",
       "       'Comedies, Music & Musicals, Sports Movies',\n",
       "       'TV Horror, TV Mysteries, Teen TV Shows',\n",
       "       'Romantic TV Shows, TV Comedies',\n",
       "       \"Kids' TV, Reality TV, Science & Nature TV\",\n",
       "       'International Movies, Romantic Movies, Sci-Fi & Fantasy',\n",
       "       'TV Comedies, TV Horror, TV Thrillers', 'TV Action & Adventure',\n",
       "       'International TV Shows, Spanish-Language TV Shows, TV Horror',\n",
       "       'Crime TV Shows, TV Action & Adventure, TV Thrillers',\n",
       "       'Music & Musicals, Stand-Up Comedy',\n",
       "       'British TV Shows, TV Comedies',\n",
       "       'TV Comedies, TV Sci-Fi & Fantasy, Teen TV Shows',\n",
       "       'TV Comedies, TV Sci-Fi & Fantasy',\n",
       "       'Romantic TV Shows, Spanish-Language TV Shows, TV Comedies',\n",
       "       'Crime TV Shows, International TV Shows, TV Sci-Fi & Fantasy',\n",
       "       'British TV Shows, International TV Shows, Romantic TV Shows',\n",
       "       \"Crime TV Shows, Kids' TV\",\n",
       "       'Horror Movies, International Movies, Sci-Fi & Fantasy',\n",
       "       'TV Comedies, TV Mysteries',\n",
       "       'Cult Movies, Horror Movies, Independent Movies',\n",
       "       'British TV Shows, Docuseries, TV Comedies',\n",
       "       'Comedies, Documentaries',\n",
       "       'Reality TV, Science & Nature TV, TV Action & Adventure',\n",
       "       'TV Comedies, TV Dramas, TV Mysteries',\n",
       "       'Crime TV Shows, TV Comedies, Teen TV Shows',\n",
       "       \"Docuseries, Kids' TV, Science & Nature TV\",\n",
       "       'Reality TV, Spanish-Language TV Shows',\n",
       "       'Action & Adventure, Anime Features, Sci-Fi & Fantasy',\n",
       "       \"Crime TV Shows, Kids' TV, TV Comedies\",\n",
       "       'Dramas, Faith & Spirituality, Independent Movies',\n",
       "       'Documentaries, Faith & Spirituality',\n",
       "       'British TV Shows, International TV Shows, Stand-Up Comedy & Talk Shows',\n",
       "       'Comedies, Dramas, Faith & Spirituality',\n",
       "       'Classic & Cult TV, TV Comedies',\n",
       "       'Dramas, Romantic Movies, Sports Movies',\n",
       "       'Stand-Up Comedy & Talk Shows, TV Mysteries, TV Sci-Fi & Fantasy',\n",
       "       'TV Sci-Fi & Fantasy, TV Thrillers',\n",
       "       'Comedies, Independent Movies, Music & Musicals',\n",
       "       'Comedies, Cult Movies, Independent Movies',\n",
       "       'Documentaries, Dramas, International Movies',\n",
       "       'British TV Shows, TV Horror, TV Thrillers',\n",
       "       'British TV Shows, Docuseries, Science & Nature TV',\n",
       "       'Children & Family Movies, Comedies, Cult Movies', 'Sports Movies',\n",
       "       'Sci-Fi & Fantasy', 'Comedies, LGBTQ Movies',\n",
       "       'Comedies, Independent Movies, Thrillers',\n",
       "       'Classic Movies, Cult Movies, Dramas',\n",
       "       'British TV Shows, TV Comedies, TV Dramas',\n",
       "       'Action & Adventure, Children & Family Movies, Independent Movies',\n",
       "       'Action & Adventure, Documentaries, International Movies',\n",
       "       'Children & Family Movies, Independent Movies',\n",
       "       'Comedies, Cult Movies, Dramas',\n",
       "       'International TV Shows, TV Horror, TV Thrillers',\n",
       "       'Classic Movies, Thrillers',\n",
       "       'Crime TV Shows, TV Dramas, TV Horror',\n",
       "       'British TV Shows, Docuseries, Reality TV',\n",
       "       'Documentaries, LGBTQ Movies, Music & Musicals',\n",
       "       'Classic Movies, Dramas, Romantic Movies',\n",
       "       'Crime TV Shows, Romantic TV Shows, Spanish-Language TV Shows',\n",
       "       'Classic Movies, Cult Movies, Horror Movies',\n",
       "       'Anime Series, Crime TV Shows, TV Thrillers',\n",
       "       'Children & Family Movies, Classic Movies',\n",
       "       'Classic Movies, Comedies, International Movies',\n",
       "       'Comedies, Sci-Fi & Fantasy',\n",
       "       'Action & Adventure, Cult Movies, Dramas',\n",
       "       'Documentaries, Faith & Spirituality, Music & Musicals',\n",
       "       'British TV Shows, Classic & Cult TV, TV Comedies',\n",
       "       'International Movies, Sports Movies', 'International TV Shows',\n",
       "       \"Classic & Cult TV, Kids' TV, Spanish-Language TV Shows\",\n",
       "       'Romantic TV Shows, Spanish-Language TV Shows, TV Dramas',\n",
       "       'Children & Family Movies, Comedies, Faith & Spirituality',\n",
       "       'British TV Shows, Crime TV Shows, TV Dramas',\n",
       "       'Classic Movies, Dramas, Music & Musicals',\n",
       "       'Cult Movies, Horror Movies, Thrillers',\n",
       "       'Action & Adventure, Classic Movies, Sci-Fi & Fantasy',\n",
       "       'TV Action & Adventure, TV Comedies',\n",
       "       'Classic Movies, Comedies, Music & Musicals', 'Independent Movies',\n",
       "       'Documentaries, Horror Movies',\n",
       "       'Classic & Cult TV, TV Horror, TV Mysteries',\n",
       "       'Comedies, Faith & Spirituality, International Movies',\n",
       "       'Dramas, Horror Movies, Sci-Fi & Fantasy',\n",
       "       'British TV Shows, TV Dramas, TV Sci-Fi & Fantasy',\n",
       "       'Comedies, Cult Movies, Horror Movies',\n",
       "       'Comedies, Cult Movies, Sports Movies',\n",
       "       'Classic Movies, Documentaries',\n",
       "       'Action & Adventure, Faith & Spirituality, Sci-Fi & Fantasy',\n",
       "       'Action & Adventure, Children & Family Movies',\n",
       "       'International TV Shows, Reality TV, TV Action & Adventure',\n",
       "       'Docuseries, Science & Nature TV, TV Dramas', 'Anime Features',\n",
       "       'Action & Adventure, Horror Movies, Independent Movies',\n",
       "       'Action & Adventure, Classic Movies, International Movies',\n",
       "       'Cult Movies, Independent Movies, Thrillers',\n",
       "       'Crime TV Shows, TV Comedies',\n",
       "       'Classic Movies, Cult Movies, Documentaries',\n",
       "       \"Classic & Cult TV, Kids' TV, TV Comedies\",\n",
       "       'Classic Movies, Dramas, LGBTQ Movies',\n",
       "       'Classic Movies, Dramas, Sports Movies',\n",
       "       'Action & Adventure, Cult Movies',\n",
       "       'Action & Adventure, Comedies, Music & Musicals',\n",
       "       'Classic Movies, Horror Movies, Thrillers',\n",
       "       'Classic Movies, Comedies, Independent Movies',\n",
       "       'Children & Family Movies, Classic Movies, Dramas',\n",
       "       'Dramas, Faith & Spirituality, Sports Movies',\n",
       "       'Classic Movies, Comedies, Romantic Movies',\n",
       "       'Dramas, Horror Movies, Music & Musicals',\n",
       "       'Classic Movies, Independent Movies, Thrillers',\n",
       "       'Children & Family Movies, Faith & Spirituality',\n",
       "       'Classic Movies, Comedies, Sports Movies',\n",
       "       'Comedies, Dramas, Sports Movies',\n",
       "       'Action & Adventure, Romantic Movies, Sci-Fi & Fantasy',\n",
       "       'Classic & Cult TV, TV Sci-Fi & Fantasy',\n",
       "       'Comedies, Cult Movies, LGBTQ Movies',\n",
       "       'Comedies, Horror Movies, Sci-Fi & Fantasy',\n",
       "       'Action & Adventure, Comedies, Horror Movies',\n",
       "       'Classic & Cult TV, Crime TV Shows, TV Dramas',\n",
       "       'Action & Adventure, Documentaries, Sports Movies',\n",
       "       'International Movies, LGBTQ Movies, Romantic Movies',\n",
       "       'Cult Movies, Dramas, Thrillers'], dtype=object)"
      ]
     },
     "execution_count": 15,
     "metadata": {},
     "output_type": "execute_result"
    }
   ],
   "source": [
    "df['listed_in'].unique()"
   ]
  },
  {
   "cell_type": "code",
   "execution_count": 31,
   "id": "1308ad91",
   "metadata": {},
   "outputs": [
    {
     "data": {
      "text/html": [
       "<div>\n",
       "<style scoped>\n",
       "    .dataframe tbody tr th:only-of-type {\n",
       "        vertical-align: middle;\n",
       "    }\n",
       "\n",
       "    .dataframe tbody tr th {\n",
       "        vertical-align: top;\n",
       "    }\n",
       "\n",
       "    .dataframe thead th {\n",
       "        text-align: right;\n",
       "    }\n",
       "</style>\n",
       "<table border=\"1\" class=\"dataframe\">\n",
       "  <thead>\n",
       "    <tr style=\"text-align: right;\">\n",
       "      <th></th>\n",
       "      <th>show_id</th>\n",
       "      <th>type</th>\n",
       "      <th>title</th>\n",
       "      <th>director</th>\n",
       "      <th>cast</th>\n",
       "      <th>country</th>\n",
       "      <th>date_added</th>\n",
       "      <th>release_year</th>\n",
       "      <th>rating</th>\n",
       "      <th>duration</th>\n",
       "      <th>listed_in</th>\n",
       "    </tr>\n",
       "  </thead>\n",
       "  <tbody>\n",
       "    <tr>\n",
       "      <th>0</th>\n",
       "      <td>s1</td>\n",
       "      <td>Movie</td>\n",
       "      <td>Dick Johnson Is Dead</td>\n",
       "      <td>Kirsten Johnson</td>\n",
       "      <td>NaN</td>\n",
       "      <td>United States</td>\n",
       "      <td>September 25, 2021</td>\n",
       "      <td>2020</td>\n",
       "      <td>PG-13</td>\n",
       "      <td>90 min</td>\n",
       "      <td>Documentaries</td>\n",
       "    </tr>\n",
       "    <tr>\n",
       "      <th>1</th>\n",
       "      <td>s2</td>\n",
       "      <td>TV Show</td>\n",
       "      <td>Blood &amp; Water</td>\n",
       "      <td>NaN</td>\n",
       "      <td>Ama Qamata, Khosi Ngema, Gail Mabalane, Thaban...</td>\n",
       "      <td>South Africa</td>\n",
       "      <td>September 24, 2021</td>\n",
       "      <td>2021</td>\n",
       "      <td>TV-MA</td>\n",
       "      <td>2 Seasons</td>\n",
       "      <td>TV Dramas, TV Mysteries</td>\n",
       "    </tr>\n",
       "    <tr>\n",
       "      <th>2</th>\n",
       "      <td>s3</td>\n",
       "      <td>TV Show</td>\n",
       "      <td>Ganglands</td>\n",
       "      <td>Julien Leclercq</td>\n",
       "      <td>Sami Bouajila, Tracy Gotoas, Samuel Jouy, Nabi...</td>\n",
       "      <td>NaN</td>\n",
       "      <td>September 24, 2021</td>\n",
       "      <td>2021</td>\n",
       "      <td>TV-MA</td>\n",
       "      <td>1 Season</td>\n",
       "      <td>Crime TV Shows, TV Action &amp; Adventure</td>\n",
       "    </tr>\n",
       "    <tr>\n",
       "      <th>3</th>\n",
       "      <td>s4</td>\n",
       "      <td>TV Show</td>\n",
       "      <td>Jailbirds New Orleans</td>\n",
       "      <td>NaN</td>\n",
       "      <td>NaN</td>\n",
       "      <td>NaN</td>\n",
       "      <td>September 24, 2021</td>\n",
       "      <td>2021</td>\n",
       "      <td>TV-MA</td>\n",
       "      <td>1 Season</td>\n",
       "      <td>Docuseries, Reality TV</td>\n",
       "    </tr>\n",
       "    <tr>\n",
       "      <th>4</th>\n",
       "      <td>s5</td>\n",
       "      <td>TV Show</td>\n",
       "      <td>Kota Factory</td>\n",
       "      <td>NaN</td>\n",
       "      <td>Mayur More, Jitendra Kumar, Ranjan Raj, Alam K...</td>\n",
       "      <td>India</td>\n",
       "      <td>September 24, 2021</td>\n",
       "      <td>2021</td>\n",
       "      <td>TV-MA</td>\n",
       "      <td>2 Seasons</td>\n",
       "      <td>Romantic TV Shows, TV Comedies</td>\n",
       "    </tr>\n",
       "  </tbody>\n",
       "</table>\n",
       "</div>"
      ],
      "text/plain": [
       "  show_id     type                  title         director  \\\n",
       "0      s1    Movie   Dick Johnson Is Dead  Kirsten Johnson   \n",
       "1      s2  TV Show          Blood & Water              NaN   \n",
       "2      s3  TV Show              Ganglands  Julien Leclercq   \n",
       "3      s4  TV Show  Jailbirds New Orleans              NaN   \n",
       "4      s5  TV Show           Kota Factory              NaN   \n",
       "\n",
       "                                                cast        country  \\\n",
       "0                                                NaN  United States   \n",
       "1  Ama Qamata, Khosi Ngema, Gail Mabalane, Thaban...   South Africa   \n",
       "2  Sami Bouajila, Tracy Gotoas, Samuel Jouy, Nabi...            NaN   \n",
       "3                                                NaN            NaN   \n",
       "4  Mayur More, Jitendra Kumar, Ranjan Raj, Alam K...          India   \n",
       "\n",
       "           date_added  release_year rating   duration  \\\n",
       "0  September 25, 2021          2020  PG-13     90 min   \n",
       "1  September 24, 2021          2021  TV-MA  2 Seasons   \n",
       "2  September 24, 2021          2021  TV-MA   1 Season   \n",
       "3  September 24, 2021          2021  TV-MA   1 Season   \n",
       "4  September 24, 2021          2021  TV-MA  2 Seasons   \n",
       "\n",
       "                               listed_in  \n",
       "0                          Documentaries  \n",
       "1                TV Dramas, TV Mysteries  \n",
       "2  Crime TV Shows, TV Action & Adventure  \n",
       "3                 Docuseries, Reality TV  \n",
       "4         Romantic TV Shows, TV Comedies  "
      ]
     },
     "execution_count": 31,
     "metadata": {},
     "output_type": "execute_result"
    }
   ],
   "source": [
    "df.head()"
   ]
  },
  {
   "cell_type": "code",
   "execution_count": 16,
   "id": "da3f0ad7",
   "metadata": {},
   "outputs": [],
   "source": [
    "# Why am I going to remove \"International TV Shows/Movie\" label from \"listed_in\"?\n",
    "# \"International\" doesn't add meaningful information \n",
    "# since Netflix is a global platform by default.\n",
    "\n",
    "# The label doesn't describe the actual genre/content type \n",
    "# (comedy, drama, thriller, etc.)\n",
    "\n",
    "# A TV show being \"International\" doesn't tell you what kind of show it actually is\n",
    "\n",
    "# Some entries have it, some don't, creating inconsistency. "
   ]
  },
  {
   "cell_type": "code",
   "execution_count": 37,
   "id": "6c271f24",
   "metadata": {},
   "outputs": [],
   "source": [
    "def remove_label(source: str) -> None:\n",
    "    source = source \\\n",
    "                  .replace(\"International TV Shows\", \"\") \\\n",
    "                  .replace(\"International Movies\", \"\") \\\n",
    "                  .replace(\", ,\", \",\") \\\n",
    "                  .strip(\", \")\n",
    "    return source"
   ]
  },
  {
   "cell_type": "code",
   "execution_count": 38,
   "id": "2543df91",
   "metadata": {},
   "outputs": [],
   "source": [
    "df['listed_in'] = df['listed_in'].apply(remove_label)"
   ]
  },
  {
   "cell_type": "code",
   "execution_count": 39,
   "id": "728bda9c",
   "metadata": {},
   "outputs": [
    {
     "data": {
      "text/plain": [
       "0                                Documentaries\n",
       "1                      TV Dramas, TV Mysteries\n",
       "2        Crime TV Shows, TV Action & Adventure\n",
       "3                       Docuseries, Reality TV\n",
       "4               Romantic TV Shows, TV Comedies\n",
       "                         ...                  \n",
       "8802            Cult Movies, Dramas, Thrillers\n",
       "8803    Kids' TV, Korean TV Shows, TV Comedies\n",
       "8804                   Comedies, Horror Movies\n",
       "8805        Children & Family Movies, Comedies\n",
       "8806                  Dramas, Music & Musicals\n",
       "Name: listed_in, Length: 8807, dtype: object"
      ]
     },
     "execution_count": 39,
     "metadata": {},
     "output_type": "execute_result"
    }
   ],
   "source": [
    "df['listed_in']"
   ]
  },
  {
   "cell_type": "code",
   "execution_count": 40,
   "id": "2b11de5b",
   "metadata": {},
   "outputs": [],
   "source": [
    "# At this point, I suppose I have to split dataset into 2 distinct tables.\n",
    "# First one will be about TV Shows, whereas second one will be on Movies  "
   ]
  },
  {
   "cell_type": "code",
   "execution_count": 41,
   "id": "105c30f5",
   "metadata": {},
   "outputs": [],
   "source": [
    "tv_shows = df[df['type'] == 'TV Show']\n",
    "movies = df[df['type'] == 'Movie']"
   ]
  },
  {
   "cell_type": "code",
   "execution_count": 42,
   "id": "5b774580",
   "metadata": {},
   "outputs": [
    {
     "name": "stdout",
     "output_type": "stream",
     "text": [
      "<class 'pandas.core.frame.DataFrame'>\n",
      "Index: 2676 entries, 1 to 8803\n",
      "Data columns (total 11 columns):\n",
      " #   Column        Non-Null Count  Dtype \n",
      "---  ------        --------------  ----- \n",
      " 0   show_id       2676 non-null   object\n",
      " 1   type          2676 non-null   object\n",
      " 2   title         2676 non-null   object\n",
      " 3   director      230 non-null    object\n",
      " 4   cast          2326 non-null   object\n",
      " 5   country       2285 non-null   object\n",
      " 6   date_added    2666 non-null   object\n",
      " 7   release_year  2676 non-null   int64 \n",
      " 8   rating        2674 non-null   object\n",
      " 9   duration      2676 non-null   object\n",
      " 10  listed_in     2676 non-null   object\n",
      "dtypes: int64(1), object(10)\n",
      "memory usage: 250.9+ KB\n"
     ]
    }
   ],
   "source": [
    "tv_shows.info()"
   ]
  },
  {
   "cell_type": "code",
   "execution_count": 43,
   "id": "bd4fd6c2",
   "metadata": {},
   "outputs": [],
   "source": [
    "# only 230 non-null values out of 2676 entries. \n",
    "# This makes the column(director) nearly useless for most analyses.\n",
    "# Such high missingness makes statistical analysis unreliable.\n",
    "# Besides this, by dropping this column\n",
    "# I will simplify my dataset without losing valuable information"
   ]
  },
  {
   "cell_type": "code",
   "execution_count": 44,
   "id": "a316dfaf",
   "metadata": {},
   "outputs": [],
   "source": [
    "tv_shows = tv_shows.drop(columns='director', axis=0)"
   ]
  },
  {
   "cell_type": "code",
   "execution_count": 45,
   "id": "e3f2f7a3",
   "metadata": {},
   "outputs": [
    {
     "name": "stdout",
     "output_type": "stream",
     "text": [
      "<class 'pandas.core.frame.DataFrame'>\n",
      "Index: 2676 entries, 1 to 8803\n",
      "Data columns (total 10 columns):\n",
      " #   Column        Non-Null Count  Dtype \n",
      "---  ------        --------------  ----- \n",
      " 0   show_id       2676 non-null   object\n",
      " 1   type          2676 non-null   object\n",
      " 2   title         2676 non-null   object\n",
      " 3   cast          2326 non-null   object\n",
      " 4   country       2285 non-null   object\n",
      " 5   date_added    2666 non-null   object\n",
      " 6   release_year  2676 non-null   int64 \n",
      " 7   rating        2674 non-null   object\n",
      " 8   duration      2676 non-null   object\n",
      " 9   listed_in     2676 non-null   object\n",
      "dtypes: int64(1), object(9)\n",
      "memory usage: 230.0+ KB\n"
     ]
    }
   ],
   "source": [
    "tv_shows.info()"
   ]
  },
  {
   "cell_type": "code",
   "execution_count": 30,
   "id": "f4ba7c92",
   "metadata": {},
   "outputs": [
    {
     "name": "stdout",
     "output_type": "stream",
     "text": [
      "<class 'pandas.core.frame.DataFrame'>\n",
      "Index: 6131 entries, 0 to 8806\n",
      "Data columns (total 11 columns):\n",
      " #   Column        Non-Null Count  Dtype \n",
      "---  ------        --------------  ----- \n",
      " 0   show_id       6131 non-null   object\n",
      " 1   type          6131 non-null   object\n",
      " 2   title         6131 non-null   object\n",
      " 3   director      5943 non-null   object\n",
      " 4   cast          5656 non-null   object\n",
      " 5   country       5691 non-null   object\n",
      " 6   date_added    6131 non-null   object\n",
      " 7   release_year  6131 non-null   int64 \n",
      " 8   rating        6129 non-null   object\n",
      " 9   duration      6128 non-null   object\n",
      " 10  listed_in     6131 non-null   object\n",
      "dtypes: int64(1), object(10)\n",
      "memory usage: 574.8+ KB\n"
     ]
    }
   ],
   "source": [
    "movies.info()"
   ]
  },
  {
   "cell_type": "code",
   "execution_count": null,
   "id": "ded4207c",
   "metadata": {},
   "outputs": [],
   "source": []
  }
 ],
 "metadata": {
  "kernelspec": {
   "display_name": "venv_win",
   "language": "python",
   "name": "python3"
  },
  "language_info": {
   "codemirror_mode": {
    "name": "ipython",
    "version": 3
   },
   "file_extension": ".py",
   "mimetype": "text/x-python",
   "name": "python",
   "nbconvert_exporter": "python",
   "pygments_lexer": "ipython3",
   "version": "3.13.7"
  }
 },
 "nbformat": 4,
 "nbformat_minor": 5
}
